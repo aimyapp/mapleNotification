{
  "nbformat": 4,
  "nbformat_minor": 0,
  "metadata": {
    "colab": {
      "provenance": [],
      "authorship_tag": "ABX9TyMS1/QWnvy81js4hafEbWq1",
      "include_colab_link": true
    },
    "kernelspec": {
      "name": "python3",
      "display_name": "Python 3"
    },
    "language_info": {
      "name": "python"
    }
  },
  "cells": [
    {
      "cell_type": "markdown",
      "metadata": {
        "id": "view-in-github",
        "colab_type": "text"
      },
      "source": [
        "<a href=\"https://colab.research.google.com/github/aimyapp/mapleNotification/blob/main/mapleNotification.ipynb\" target=\"_parent\"><img src=\"https://colab.research.google.com/assets/colab-badge.svg\" alt=\"Open In Colab\"/></a>"
      ]
    },
    {
      "cell_type": "code",
      "execution_count": null,
      "metadata": {
        "id": "UDynnU2V6a8b"
      },
      "outputs": [],
      "source": [
        "#@title System Setup\n",
        "%%shell\n",
        "\n",
        "# 更新を実行\n",
        "sudo apt -y update\n",
        "apt-get install libvulkan1\n",
        "sudo apt-get -f install\n",
        "\n",
        "# ダウンロードのために必要なパッケージをインストール\n",
        "sudo apt install -y wget curl unzip\n",
        "# 以下はChromeの依存パッケージ\n",
        "wget http://archive.ubuntu.com/ubuntu/pool/main/libu/libu2f-host/libu2f-udev_1.1.4-1_all.deb\n",
        "dpkg -i libu2f-udev_1.1.4-1_all.deb\n",
        "\n",
        "# Chromeのインストール\n",
        "wget https://dl.google.com/linux/direct/google-chrome-stable_current_amd64.deb\n",
        "dpkg -i google-chrome-stable_current_amd64.deb\n",
        "\n",
        "# Chrome Driverのインストール\n",
        "wget -N https://storage.googleapis.com/chrome-for-testing-public/130.0.6723.116/linux64/chromedriver-linux64.zip -P /tmp/\n",
        "unzip -o /tmp/chromedriver-linux64.zip -d /tmp/\n",
        "chmod +x /tmp/chromedriver-linux64/chromedriver\n",
        "mv /tmp/chromedriver-linux64/chromedriver /usr/local/bin/chromedriver\n",
        "\n",
        "!google-chrome --version\n",
        "!chromedriver --version"
      ]
    },
    {
      "cell_type": "code",
      "source": [
        "#@title Main Feature\n",
        "from selenium import webdriver\n",
        "from selenium.webdriver.common.by import By\n",
        "from selenium.webdriver.chrome.service import Service\n",
        "from selenium.webdriver.chrome.options import Options\n",
        "from selenium.webdriver.common.keys import Keys # Keysをインポート\n",
        "from time import sleep\n",
        "\n",
        "# Chromeオプションの設定\n",
        "chrome_options = Options()\n",
        "chrome_options.add_argument('--headless')\n",
        "chrome_options.add_argument('--no-sandbox')\n",
        "chrome_options.add_argument('--disable-dev-shm-usage')\n",
        "chrome_options.add_argument('--disable-gpu')\n",
        "chrome_options.add_argument('--remote-debugging-port=9222')\n",
        "\n",
        "# ChromeDriverのパスを設定\n",
        "chrome_service = Service('/usr/local/bin/chromedriver')\n",
        "\n",
        "# ブラウザを起動\n",
        "driver = webdriver.Chrome(service=chrome_service, options=chrome_options)\n",
        "\n",
        "# 指定されたURLを開く\n",
        "driver.get('https://maplestory.nexon.co.jp/notice/list/')\n",
        "\n",
        "# id=\"notice-area\"の要素を取得\n",
        "notice_area = driver.find_element(By.ID, 'notice-area')\n",
        "\n",
        "# 要素のテキストを取得して表示\n",
        "print(notice_area.text)\n",
        "\n",
        "# スクリーンショットを保存（オプション）\n",
        "driver.save_screenshot(\"notice_area.png\")\n",
        "\n",
        "# ブラウザを終了\n",
        "driver.quit()"
      ],
      "metadata": {
        "id": "oGDYXPMN7XAW"
      },
      "execution_count": null,
      "outputs": []
    },
    {
      "cell_type": "code",
      "source": [
        "!pip install google-colab-shell\n",
        "#@title Free shell\n",
        "from google_colab_shell import getshell\n",
        "getshell()"
      ],
      "metadata": {
        "id": "e54oviefQkfy"
      },
      "execution_count": null,
      "outputs": []
    }
  ]
}